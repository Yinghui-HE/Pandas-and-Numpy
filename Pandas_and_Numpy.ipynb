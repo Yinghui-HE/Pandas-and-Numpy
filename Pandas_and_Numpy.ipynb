{
  "nbformat": 4,
  "nbformat_minor": 0,
  "metadata": {
    "colab": {
      "name": "HW2_He_Yinghui (Linda).ipynb",
      "provenance": [],
      "collapsed_sections": [],
      "include_colab_link": true
    },
    "kernelspec": {
      "name": "python3",
      "display_name": "Python 3"
    }
  },
  "cells": [
    {
      "cell_type": "markdown",
      "metadata": {
        "id": "view-in-github",
        "colab_type": "text"
      },
      "source": [
        "<a href=\"https://colab.research.google.com/github/Yinghui-HE/Pandas-and-Numpy/blob/main/Pandas_and_Numpy.ipynb\" target=\"_parent\"><img src=\"https://colab.research.google.com/assets/colab-badge.svg\" alt=\"Open In Colab\"/></a>"
      ]
    },
    {
      "cell_type": "markdown",
      "metadata": {
        "id": "bNsIruOzI4iF"
      },
      "source": [
        "## **Homework 2**\n",
        "\n",
        "### Create a copy of the notebook to start answering the questions. Name your notebook in the format HW2_lastname_firstname.ipynb to facilitate the grading process. \n",
        "\n",
        "### Answer all the questions, test your code to ensure there are no errors and the results are as expected. Once you have answered all the questions, save the final copy, then go to File-> click on Download.ipynb. Once the local copy has been downloaded, submit your file on Blackboard under the corresponding assignment section. Also provide us a link to your notebook during submission. \n",
        "\n",
        "### **The due date of this homework is 02/12/2021 (Friday).**\n",
        "\n",
        "### Please ensure you follow all the steps mentioned in the homework.\n",
        "\n",
        "### All the questions have a sample input and output to help you understand the question.\n",
        "\n",
        "### You can submit your solutions any number of times until the deadline.\n"
      ]
    },
    {
      "cell_type": "markdown",
      "metadata": {
        "id": "U3Yz3s2uio1F"
      },
      "source": [
        "**Q1. Lets consider your data is like the below cell:**\n",
        "\n",
        "**Q1-1**: Write a program that create a dataframe from the data.\n",
        "\n",
        "**Q1-2:** Select people that are psychologist or teacher and their number of cars is greater than their family size.\n",
        "\n",
        "**Q1-3:** Select people who have at most 2 family members and at least 1 car.\n",
        "\n",
        "**Q1-4:** Write a code that get number of unique jobs in this dataset.\n",
        "\n",
        "\n",
        "\n"
      ]
    },
    {
      "cell_type": "code",
      "metadata": {
        "id": "yR8lcOtcjxXD"
      },
      "source": [
        "data = {\"name\": [\"Joseph\", \"Jacob\", \"Sam\", \"Jesee\", \"Ryan\", \"Lisa\", \"Lee\"],\n",
        "        \"job\": [\"teacher\", \"psychologist\", \"data scientist\", \"software developer\", \"psychologist\", \"psychologist\", \"teacher\"],\n",
        "        \"family_size\": [3, 2, 1, 4, 2, 3, 2],\n",
        "        \"num_cars\": [3, 1, 1, 2, 2, 4, 1]}"
      ],
      "execution_count": null,
      "outputs": []
    },
    {
      "cell_type": "code",
      "metadata": {
        "id": "Youi5qMaP34p",
        "colab": {
          "base_uri": "https://localhost:8080/"
        },
        "outputId": "fcfb25e9-2614-4712-b818-193b64b7ab93"
      },
      "source": [
        "# Type your solution here\n",
        "import pandas as pd\n",
        "\n",
        "# Q1-1\n",
        "frame = pd.DataFrame(data)\n",
        "print(frame)\n",
        "\n",
        "# Q1-2\n",
        "print()\n",
        "print(frame[(frame[\"job\"] == \"psychologist\") & (frame[\"num_cars\"] > frame[\"family_size\"])])\n",
        "\n",
        "# Q1-3\n",
        "print()\n",
        "print(frame[(frame[\"family_size\"] <= 2) & (frame[\"num_cars\"] >= 1)])\n",
        "\n",
        "# Q1-4\n",
        "print()\n",
        "num_unique_jobs = len(set(frame[\"job\"]))\n",
        "print(num_unique_jobs)"
      ],
      "execution_count": null,
      "outputs": [
        {
          "output_type": "stream",
          "text": [
            "     name                 job  family_size  num_cars\n",
            "0  Joseph             teacher            3         3\n",
            "1   Jacob        psychologist            2         1\n",
            "2     Sam      data scientist            1         1\n",
            "3   Jesee  software developer            4         2\n",
            "4    Ryan        psychologist            2         2\n",
            "5    Lisa        psychologist            3         4\n",
            "6     Lee             teacher            2         1\n",
            "\n",
            "   name           job  family_size  num_cars\n",
            "5  Lisa  psychologist            3         4\n",
            "\n",
            "    name             job  family_size  num_cars\n",
            "1  Jacob    psychologist            2         1\n",
            "2    Sam  data scientist            1         1\n",
            "4   Ryan    psychologist            2         2\n",
            "6    Lee         teacher            2         1\n",
            "\n",
            "4\n"
          ],
          "name": "stdout"
        }
      ]
    },
    {
      "cell_type": "markdown",
      "metadata": {
        "id": "Ow6nG8k4l91X"
      },
      "source": [
        "**Q2. Lets consider you have two series like the below cell. Compute the mean of weights of each fruit.**"
      ]
    },
    {
      "cell_type": "code",
      "metadata": {
        "id": "u-X_DoOzVLLB"
      },
      "source": [
        "import numpy as np\n",
        "fruit = pd.Series(np.random.choice(['apple', 'banana', 'carrot'], 10))\n",
        "weights = pd.Series(np.linspace(1, 10, 10))"
      ],
      "execution_count": null,
      "outputs": []
    },
    {
      "cell_type": "code",
      "metadata": {
        "id": "S419nzYnpU__",
        "colab": {
          "base_uri": "https://localhost:8080/"
        },
        "outputId": "4f92fb32-0e8c-4746-c8e3-c75e83c42734"
      },
      "source": [
        "# Type your solution here\n",
        "import pandas as pd\n",
        "\n",
        "frame = pd.DataFrame(columns = [\"fruit\", \"weights\"])\n",
        "frame[\"fruit\"] = fruit\n",
        "frame[\"weights\"] = weights\n",
        "print(frame)\n",
        "print()\n",
        "\n",
        "for f in set(fruit):\n",
        "  frame2 = frame[(frame[\"fruit\"] == f)]\n",
        "  mean_weight = frame2[\"weights\"].mean()\n",
        "  print(frame2)\n",
        "  print(\"The mean of weights of\", f, \"is:\", mean_weight)\n",
        "  print()"
      ],
      "execution_count": null,
      "outputs": [
        {
          "output_type": "stream",
          "text": [
            "    fruit  weights\n",
            "0  banana      1.0\n",
            "1  banana      2.0\n",
            "2  carrot      3.0\n",
            "3  banana      4.0\n",
            "4  carrot      5.0\n",
            "5  banana      6.0\n",
            "6  carrot      7.0\n",
            "7  banana      8.0\n",
            "8  banana      9.0\n",
            "9  carrot     10.0\n",
            "\n",
            "    fruit  weights\n",
            "2  carrot      3.0\n",
            "4  carrot      5.0\n",
            "6  carrot      7.0\n",
            "9  carrot     10.0\n",
            "The mean of weights of carrot is: 6.25\n",
            "\n",
            "    fruit  weights\n",
            "0  banana      1.0\n",
            "1  banana      2.0\n",
            "3  banana      4.0\n",
            "5  banana      6.0\n",
            "7  banana      8.0\n",
            "8  banana      9.0\n",
            "The mean of weights of banana is: 5.0\n",
            "\n"
          ],
          "name": "stdout"
        }
      ]
    },
    {
      "cell_type": "markdown",
      "metadata": {
        "id": "g4lKaPIhtVrt"
      },
      "source": [
        "**Q3. Consider the below course_name array:**\n",
        "\n",
        "**Q3-1**: Write a NumPy program to get the indices of the sorted elements of **course_name** array.\n",
        "\n",
        "**Q3-2:** Write numpy code to check whether each element of **course_name** array starts with \"P\".\n"
      ]
    },
    {
      "cell_type": "code",
      "metadata": {
        "id": "RUP_jp2KtVrx"
      },
      "source": [
        "import numpy as np\n",
        "course_name = np.array(['Python', 'JS', 'examples', 'PHP', 'html'])"
      ],
      "execution_count": null,
      "outputs": []
    },
    {
      "cell_type": "code",
      "metadata": {
        "id": "U1i27POxv-o_",
        "colab": {
          "base_uri": "https://localhost:8080/"
        },
        "outputId": "cf7f197c-bc9e-49c8-980a-ec291ff879d4"
      },
      "source": [
        "# Type your solution here\n",
        "# Q3-1\n",
        "indices = np.argsort(course_name)\n",
        "print(indices)\n",
        "\n",
        "# Q3-2\n",
        "start_with_p = np.char.startswith(course_name, 'P')\n",
        "print(start_with_p)"
      ],
      "execution_count": null,
      "outputs": [
        {
          "output_type": "stream",
          "text": [
            "[1 3 0 2 4]\n",
            "[ True False False  True False]\n"
          ],
          "name": "stdout"
        }
      ]
    },
    {
      "cell_type": "markdown",
      "metadata": {
        "id": "sUFItNFOxwkz"
      },
      "source": [
        "**Q4. Consider the below student_id array:**\n",
        "\n",
        "**Q4-1:** Reverse the **student_id** array. Print both original and reversed array.\n",
        "\n",
        "**Q4-2:** Get the 3-largest values of **student_id** array."
      ]
    },
    {
      "cell_type": "code",
      "metadata": {
        "id": "Rl5qzEjFv0nw"
      },
      "source": [
        "import numpy as np\n",
        "student_id = np.array([1023, 5202, 6230, 1671, 1682, 5241, 4532])"
      ],
      "execution_count": null,
      "outputs": []
    },
    {
      "cell_type": "code",
      "metadata": {
        "id": "EetvHGrUxMCC",
        "colab": {
          "base_uri": "https://localhost:8080/"
        },
        "outputId": "6e592507-a904-40b4-da85-4ab4df5a084b"
      },
      "source": [
        "# Type your solution here\n",
        "# Q4-1\n",
        "student_id_reversed = np.flipud(student_id)\n",
        "print(student_id)\n",
        "print(student_id_reversed)\n",
        "print()\n",
        "\n",
        "# Q4-2\n",
        "indices_sorted = np.argsort(-student_id)[:3]\n",
        "largest_three_vals = student_id[indices_sorted]\n",
        "print(largest_three_vals)"
      ],
      "execution_count": null,
      "outputs": [
        {
          "output_type": "stream",
          "text": [
            "[1023 5202 6230 1671 1682 5241 4532]\n",
            "[4532 5241 1682 1671 6230 5202 1023]\n",
            "\n",
            "[6230 5241 5202]\n"
          ],
          "name": "stdout"
        }
      ]
    },
    {
      "cell_type": "markdown",
      "metadata": {
        "id": "uKRyDVuW6B19"
      },
      "source": [
        "# **Q5: Write a numpy program to print sum of all the multiples of 3 or 5 below 100**"
      ]
    },
    {
      "cell_type": "code",
      "metadata": {
        "id": "ZIixq1gz6OK3",
        "colab": {
          "base_uri": "https://localhost:8080/"
        },
        "outputId": "9ba39cbb-6a3d-43a5-f014-eaf1ef18929f"
      },
      "source": [
        "# Type your solution here\n",
        "import numpy as np\n",
        "\n",
        "# Hint: you can use arange to start off\n",
        "array_under_100 = np.arange(1, 100)\n",
        "\n",
        "multiples_of_3_or_5 = array_under_100[(array_under_100 % 3 == 0) | (array_under_100 % 5 == 0)]\n",
        "print(multiples_of_3_or_5)\n",
        "\n",
        "sum_val = np.sum(multiples_of_3_or_5)\n",
        "print(sum_val)"
      ],
      "execution_count": null,
      "outputs": [
        {
          "output_type": "stream",
          "text": [
            "[ 3  5  6  9 10 12 15 18 20 21 24 25 27 30 33 35 36 39 40 42 45 48 50 51\n",
            " 54 55 57 60 63 65 66 69 70 72 75 78 80 81 84 85 87 90 93 95 96 99]\n",
            "2318\n"
          ],
          "name": "stdout"
        }
      ]
    },
    {
      "cell_type": "markdown",
      "metadata": {
        "id": "2CWJOsP24c34"
      },
      "source": [
        "**Q6. Consider the below array.**\n",
        "\n",
        "Q6.1. Write a code to swap column 1 with column 2.\n",
        "\n",
        "Q6.2. Write a code to swap row 0 with row 1."
      ]
    },
    {
      "cell_type": "code",
      "metadata": {
        "id": "3OG6X5Eg5KSM",
        "colab": {
          "base_uri": "https://localhost:8080/"
        },
        "outputId": "5743dfbc-0175-4d17-d039-8783fa417808"
      },
      "source": [
        "import numpy as np\n",
        "\n",
        "arr = np.arange(12).reshape(3,4)\n",
        "print(arr)"
      ],
      "execution_count": null,
      "outputs": [
        {
          "output_type": "stream",
          "text": [
            "[[ 0  1  2  3]\n",
            " [ 4  5  6  7]\n",
            " [ 8  9 10 11]]\n"
          ],
          "name": "stdout"
        }
      ]
    },
    {
      "cell_type": "code",
      "metadata": {
        "id": "Q-Q91DpO5YYW",
        "colab": {
          "base_uri": "https://localhost:8080/"
        },
        "outputId": "6cc45918-aace-44e6-aa32-7062e2cd9bdb"
      },
      "source": [
        "# Type your solution here\n",
        "# Q6-1\n",
        "swap_col = np.array(arr)\n",
        "swap_col[:, [2, 1]] = swap_col[:, [1, 2]]\n",
        "print(swap_col)\n",
        "print()\n",
        "\n",
        "# Q6-2\n",
        "swap_row = np.array(arr)\n",
        "swap_row[[1, 0], :] = swap_row[[0, 1], :]\n",
        "print(swap_row)"
      ],
      "execution_count": null,
      "outputs": [
        {
          "output_type": "stream",
          "text": [
            "[[ 0  2  1  3]\n",
            " [ 4  6  5  7]\n",
            " [ 8 10  9 11]]\n",
            "\n",
            "[[ 4  5  6  7]\n",
            " [ 0  1  2  3]\n",
            " [ 8  9 10 11]]\n"
          ],
          "name": "stdout"
        }
      ]
    }
  ]
}